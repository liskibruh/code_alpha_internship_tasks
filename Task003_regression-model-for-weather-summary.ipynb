{
 "cells": [
  {
   "cell_type": "code",
   "execution_count": 2,
   "id": "efdb6e6b",
   "metadata": {
    "execution": {
     "iopub.execute_input": "2023-07-04T19:55:56.539740Z",
     "iopub.status.busy": "2023-07-04T19:55:56.538181Z",
     "iopub.status.idle": "2023-07-04T19:55:59.650082Z",
     "shell.execute_reply": "2023-07-04T19:55:59.648529Z"
    },
    "papermill": {
     "duration": 3.120964,
     "end_time": "2023-07-04T19:55:59.653105",
     "exception": false,
     "start_time": "2023-07-04T19:55:56.532141",
     "status": "completed"
    },
    "tags": []
   },
   "outputs": [],
   "source": [
    "import pandas as pd\n",
    "import numpy as np\n",
    "#import plotly.express as px\n",
    "import matplotlib.pyplot as plt\n",
    " #ml library\n",
    "from sklearn.linear_model import LinearRegression"
   ]
  },
  {
   "cell_type": "code",
   "execution_count": 3,
   "id": "f1267c3f",
   "metadata": {
    "execution": {
     "iopub.execute_input": "2023-07-04T19:55:59.663421Z",
     "iopub.status.busy": "2023-07-04T19:55:59.663009Z",
     "iopub.status.idle": "2023-07-04T19:55:59.994852Z",
     "shell.execute_reply": "2023-07-04T19:55:59.993951Z"
    },
    "papermill": {
     "duration": 0.340016,
     "end_time": "2023-07-04T19:55:59.997088",
     "exception": false,
     "start_time": "2023-07-04T19:55:59.657072",
     "status": "completed"
    },
    "tags": []
   },
   "outputs": [
    {
     "name": "stderr",
     "output_type": "stream",
     "text": [
      "C:\\Users\\oo_wa\\AppData\\Local\\Temp\\ipykernel_1992\\2332669627.py:1: DtypeWarning: Columns (7,8,18,25) have mixed types. Specify dtype option on import or set low_memory=False.\n",
      "  df=pd.read_csv('Summary of Weather.csv')\n"
     ]
    }
   ],
   "source": [
    "df=pd.read_csv('Summary of Weather.csv')"
   ]
  },
  {
   "cell_type": "code",
   "execution_count": 4,
   "id": "9e4a9de4",
   "metadata": {
    "execution": {
     "iopub.execute_input": "2023-07-04T19:56:00.007333Z",
     "iopub.status.busy": "2023-07-04T19:56:00.005696Z",
     "iopub.status.idle": "2023-07-04T19:56:00.051543Z",
     "shell.execute_reply": "2023-07-04T19:56:00.049832Z"
    },
    "papermill": {
     "duration": 0.053637,
     "end_time": "2023-07-04T19:56:00.054493",
     "exception": false,
     "start_time": "2023-07-04T19:56:00.000856",
     "status": "completed"
    },
    "tags": []
   },
   "outputs": [
    {
     "data": {
      "text/html": [
       "<div>\n",
       "<style scoped>\n",
       "    .dataframe tbody tr th:only-of-type {\n",
       "        vertical-align: middle;\n",
       "    }\n",
       "\n",
       "    .dataframe tbody tr th {\n",
       "        vertical-align: top;\n",
       "    }\n",
       "\n",
       "    .dataframe thead th {\n",
       "        text-align: right;\n",
       "    }\n",
       "</style>\n",
       "<table border=\"1\" class=\"dataframe\">\n",
       "  <thead>\n",
       "    <tr style=\"text-align: right;\">\n",
       "      <th></th>\n",
       "      <th>STA</th>\n",
       "      <th>Date</th>\n",
       "      <th>Precip</th>\n",
       "      <th>WindGustSpd</th>\n",
       "      <th>MaxTemp</th>\n",
       "      <th>MinTemp</th>\n",
       "      <th>MeanTemp</th>\n",
       "      <th>Snowfall</th>\n",
       "      <th>PoorWeather</th>\n",
       "      <th>YR</th>\n",
       "      <th>...</th>\n",
       "      <th>FB</th>\n",
       "      <th>FTI</th>\n",
       "      <th>ITH</th>\n",
       "      <th>PGT</th>\n",
       "      <th>TSHDSBRSGF</th>\n",
       "      <th>SD3</th>\n",
       "      <th>RHX</th>\n",
       "      <th>RHN</th>\n",
       "      <th>RVG</th>\n",
       "      <th>WTE</th>\n",
       "    </tr>\n",
       "  </thead>\n",
       "  <tbody>\n",
       "    <tr>\n",
       "      <th>0</th>\n",
       "      <td>10001</td>\n",
       "      <td>1942-7-1</td>\n",
       "      <td>1.016</td>\n",
       "      <td>NaN</td>\n",
       "      <td>25.555556</td>\n",
       "      <td>22.222222</td>\n",
       "      <td>23.888889</td>\n",
       "      <td>0.0</td>\n",
       "      <td>NaN</td>\n",
       "      <td>42</td>\n",
       "      <td>...</td>\n",
       "      <td>NaN</td>\n",
       "      <td>NaN</td>\n",
       "      <td>NaN</td>\n",
       "      <td>NaN</td>\n",
       "      <td>NaN</td>\n",
       "      <td>NaN</td>\n",
       "      <td>NaN</td>\n",
       "      <td>NaN</td>\n",
       "      <td>NaN</td>\n",
       "      <td>NaN</td>\n",
       "    </tr>\n",
       "    <tr>\n",
       "      <th>1</th>\n",
       "      <td>10001</td>\n",
       "      <td>1942-7-2</td>\n",
       "      <td>0</td>\n",
       "      <td>NaN</td>\n",
       "      <td>28.888889</td>\n",
       "      <td>21.666667</td>\n",
       "      <td>25.555556</td>\n",
       "      <td>0.0</td>\n",
       "      <td>NaN</td>\n",
       "      <td>42</td>\n",
       "      <td>...</td>\n",
       "      <td>NaN</td>\n",
       "      <td>NaN</td>\n",
       "      <td>NaN</td>\n",
       "      <td>NaN</td>\n",
       "      <td>NaN</td>\n",
       "      <td>NaN</td>\n",
       "      <td>NaN</td>\n",
       "      <td>NaN</td>\n",
       "      <td>NaN</td>\n",
       "      <td>NaN</td>\n",
       "    </tr>\n",
       "    <tr>\n",
       "      <th>2</th>\n",
       "      <td>10001</td>\n",
       "      <td>1942-7-3</td>\n",
       "      <td>2.54</td>\n",
       "      <td>NaN</td>\n",
       "      <td>26.111111</td>\n",
       "      <td>22.222222</td>\n",
       "      <td>24.444444</td>\n",
       "      <td>0.0</td>\n",
       "      <td>NaN</td>\n",
       "      <td>42</td>\n",
       "      <td>...</td>\n",
       "      <td>NaN</td>\n",
       "      <td>NaN</td>\n",
       "      <td>NaN</td>\n",
       "      <td>NaN</td>\n",
       "      <td>NaN</td>\n",
       "      <td>NaN</td>\n",
       "      <td>NaN</td>\n",
       "      <td>NaN</td>\n",
       "      <td>NaN</td>\n",
       "      <td>NaN</td>\n",
       "    </tr>\n",
       "    <tr>\n",
       "      <th>3</th>\n",
       "      <td>10001</td>\n",
       "      <td>1942-7-4</td>\n",
       "      <td>2.54</td>\n",
       "      <td>NaN</td>\n",
       "      <td>26.666667</td>\n",
       "      <td>22.222222</td>\n",
       "      <td>24.444444</td>\n",
       "      <td>0.0</td>\n",
       "      <td>NaN</td>\n",
       "      <td>42</td>\n",
       "      <td>...</td>\n",
       "      <td>NaN</td>\n",
       "      <td>NaN</td>\n",
       "      <td>NaN</td>\n",
       "      <td>NaN</td>\n",
       "      <td>NaN</td>\n",
       "      <td>NaN</td>\n",
       "      <td>NaN</td>\n",
       "      <td>NaN</td>\n",
       "      <td>NaN</td>\n",
       "      <td>NaN</td>\n",
       "    </tr>\n",
       "    <tr>\n",
       "      <th>4</th>\n",
       "      <td>10001</td>\n",
       "      <td>1942-7-5</td>\n",
       "      <td>0</td>\n",
       "      <td>NaN</td>\n",
       "      <td>26.666667</td>\n",
       "      <td>21.666667</td>\n",
       "      <td>24.444444</td>\n",
       "      <td>0.0</td>\n",
       "      <td>NaN</td>\n",
       "      <td>42</td>\n",
       "      <td>...</td>\n",
       "      <td>NaN</td>\n",
       "      <td>NaN</td>\n",
       "      <td>NaN</td>\n",
       "      <td>NaN</td>\n",
       "      <td>NaN</td>\n",
       "      <td>NaN</td>\n",
       "      <td>NaN</td>\n",
       "      <td>NaN</td>\n",
       "      <td>NaN</td>\n",
       "      <td>NaN</td>\n",
       "    </tr>\n",
       "  </tbody>\n",
       "</table>\n",
       "<p>5 rows × 31 columns</p>\n",
       "</div>"
      ],
      "text/plain": [
       "     STA      Date Precip  WindGustSpd    MaxTemp    MinTemp   MeanTemp  \\\n",
       "0  10001  1942-7-1  1.016          NaN  25.555556  22.222222  23.888889   \n",
       "1  10001  1942-7-2      0          NaN  28.888889  21.666667  25.555556   \n",
       "2  10001  1942-7-3   2.54          NaN  26.111111  22.222222  24.444444   \n",
       "3  10001  1942-7-4   2.54          NaN  26.666667  22.222222  24.444444   \n",
       "4  10001  1942-7-5      0          NaN  26.666667  21.666667  24.444444   \n",
       "\n",
       "  Snowfall PoorWeather  YR  ...  FB  FTI ITH  PGT  TSHDSBRSGF  SD3  RHX  RHN  \\\n",
       "0      0.0         NaN  42  ... NaN  NaN NaN  NaN         NaN  NaN  NaN  NaN   \n",
       "1      0.0         NaN  42  ... NaN  NaN NaN  NaN         NaN  NaN  NaN  NaN   \n",
       "2      0.0         NaN  42  ... NaN  NaN NaN  NaN         NaN  NaN  NaN  NaN   \n",
       "3      0.0         NaN  42  ... NaN  NaN NaN  NaN         NaN  NaN  NaN  NaN   \n",
       "4      0.0         NaN  42  ... NaN  NaN NaN  NaN         NaN  NaN  NaN  NaN   \n",
       "\n",
       "  RVG  WTE  \n",
       "0 NaN  NaN  \n",
       "1 NaN  NaN  \n",
       "2 NaN  NaN  \n",
       "3 NaN  NaN  \n",
       "4 NaN  NaN  \n",
       "\n",
       "[5 rows x 31 columns]"
      ]
     },
     "execution_count": 4,
     "metadata": {},
     "output_type": "execute_result"
    }
   ],
   "source": [
    "df.head()"
   ]
  },
  {
   "cell_type": "code",
   "execution_count": 5,
   "id": "90e010f1",
   "metadata": {
    "execution": {
     "iopub.execute_input": "2023-07-04T19:56:00.064628Z",
     "iopub.status.busy": "2023-07-04T19:56:00.064242Z",
     "iopub.status.idle": "2023-07-04T19:56:00.123671Z",
     "shell.execute_reply": "2023-07-04T19:56:00.121989Z"
    },
    "papermill": {
     "duration": 0.067211,
     "end_time": "2023-07-04T19:56:00.125954",
     "exception": false,
     "start_time": "2023-07-04T19:56:00.058743",
     "status": "completed"
    },
    "tags": []
   },
   "outputs": [
    {
     "name": "stdout",
     "output_type": "stream",
     "text": [
      "<class 'pandas.core.frame.DataFrame'>\n",
      "RangeIndex: 119040 entries, 0 to 119039\n",
      "Data columns (total 31 columns):\n",
      " #   Column       Non-Null Count   Dtype  \n",
      "---  ------       --------------   -----  \n",
      " 0   STA          119040 non-null  int64  \n",
      " 1   Date         119040 non-null  object \n",
      " 2   Precip       119040 non-null  object \n",
      " 3   WindGustSpd  532 non-null     float64\n",
      " 4   MaxTemp      119040 non-null  float64\n",
      " 5   MinTemp      119040 non-null  float64\n",
      " 6   MeanTemp     119040 non-null  float64\n",
      " 7   Snowfall     117877 non-null  object \n",
      " 8   PoorWeather  34237 non-null   object \n",
      " 9   YR           119040 non-null  int64  \n",
      " 10  MO           119040 non-null  int64  \n",
      " 11  DA           119040 non-null  int64  \n",
      " 12  PRCP         117108 non-null  object \n",
      " 13  DR           533 non-null     float64\n",
      " 14  SPD          532 non-null     float64\n",
      " 15  MAX          118566 non-null  float64\n",
      " 16  MIN          118572 non-null  float64\n",
      " 17  MEA          118542 non-null  float64\n",
      " 18  SNF          117877 non-null  object \n",
      " 19  SND          5563 non-null    float64\n",
      " 20  FT           0 non-null       float64\n",
      " 21  FB           0 non-null       float64\n",
      " 22  FTI          0 non-null       float64\n",
      " 23  ITH          0 non-null       float64\n",
      " 24  PGT          525 non-null     float64\n",
      " 25  TSHDSBRSGF   34237 non-null   object \n",
      " 26  SD3          0 non-null       float64\n",
      " 27  RHX          0 non-null       float64\n",
      " 28  RHN          0 non-null       float64\n",
      " 29  RVG          0 non-null       float64\n",
      " 30  WTE          0 non-null       float64\n",
      "dtypes: float64(20), int64(4), object(7)\n",
      "memory usage: 28.2+ MB\n"
     ]
    }
   ],
   "source": [
    "df.info()"
   ]
  },
  {
   "cell_type": "code",
   "execution_count": 6,
   "id": "211a63f7",
   "metadata": {
    "execution": {
     "iopub.execute_input": "2023-07-04T19:56:00.136541Z",
     "iopub.status.busy": "2023-07-04T19:56:00.136134Z",
     "iopub.status.idle": "2023-07-04T19:56:00.895324Z",
     "shell.execute_reply": "2023-07-04T19:56:00.894192Z"
    },
    "papermill": {
     "duration": 0.767414,
     "end_time": "2023-07-04T19:56:00.897874",
     "exception": false,
     "start_time": "2023-07-04T19:56:00.130460",
     "status": "completed"
    },
    "tags": []
   },
   "outputs": [
    {
     "data": {
      "text/plain": [
       "<Axes: xlabel='MinTemp'>"
      ]
     },
     "execution_count": 6,
     "metadata": {},
     "output_type": "execute_result"
    },
    {
     "data": {
      "image/png": "[encoded data removed]",
      "text/plain": [
       "<Figure size 640x480 with 1 Axes>"
      ]
     },
     "metadata": {},
     "output_type": "display_data"
    }
   ],
   "source": [
    "#relation between mintemp and maxtemp\n",
    "df.plot(x='MinTemp',y='MaxTemp',style='o')"
   ]
  },
  {
   "cell_type": "code",
   "execution_count": 7,
   "id": "e935a090",
   "metadata": {
    "execution": {
     "iopub.execute_input": "2023-07-04T19:56:00.910343Z",
     "iopub.status.busy": "2023-07-04T19:56:00.908809Z",
     "iopub.status.idle": "2023-07-04T19:56:00.916673Z",
     "shell.execute_reply": "2023-07-04T19:56:00.915486Z"
    },
    "papermill": {
     "duration": 0.016287,
     "end_time": "2023-07-04T19:56:00.919054",
     "exception": false,
     "start_time": "2023-07-04T19:56:00.902767",
     "status": "completed"
    },
    "tags": []
   },
   "outputs": [],
   "source": [
    "#assign data\n",
    "x=df['MinTemp'].values.reshape(-1,1)\n",
    "y=df['MaxTemp'].values.reshape(-1,1)"
   ]
  },
  {
   "cell_type": "code",
   "execution_count": 8,
   "id": "e53e2953",
   "metadata": {
    "execution": {
     "iopub.execute_input": "2023-07-04T19:56:00.931451Z",
     "iopub.status.busy": "2023-07-04T19:56:00.930221Z",
     "iopub.status.idle": "2023-07-04T19:56:00.943603Z",
     "shell.execute_reply": "2023-07-04T19:56:00.941983Z"
    },
    "papermill": {
     "duration": 0.022474,
     "end_time": "2023-07-04T19:56:00.946346",
     "exception": false,
     "start_time": "2023-07-04T19:56:00.923872",
     "status": "completed"
    },
    "tags": []
   },
   "outputs": [],
   "source": [
    "# split data\n",
    "from sklearn.model_selection import train_test_split\n",
    "x_train,x_test,y_train,y_test=train_test_split(x,y,test_size=.20)"
   ]
  },
  {
   "cell_type": "code",
   "execution_count": 9,
   "id": "00a45f54",
   "metadata": {
    "execution": {
     "iopub.execute_input": "2023-07-04T19:56:00.957305Z",
     "iopub.status.busy": "2023-07-04T19:56:00.956906Z",
     "iopub.status.idle": "2023-07-04T19:56:00.982913Z",
     "shell.execute_reply": "2023-07-04T19:56:00.981487Z"
    },
    "papermill": {
     "duration": 0.034643,
     "end_time": "2023-07-04T19:56:00.985647",
     "exception": false,
     "start_time": "2023-07-04T19:56:00.951004",
     "status": "completed"
    },
    "tags": []
   },
   "outputs": [],
   "source": [
    "# create model\n",
    "model = LinearRegression()\n",
    "model.fit(x_train, y_train)\n",
    "y_predict=model.predict(x_test)"
   ]
  },
  {
   "cell_type": "code",
   "execution_count": 10,
   "id": "dc0da33d",
   "metadata": {
    "execution": {
     "iopub.execute_input": "2023-07-04T19:56:00.997326Z",
     "iopub.status.busy": "2023-07-04T19:56:00.996946Z",
     "iopub.status.idle": "2023-07-04T19:56:01.005118Z",
     "shell.execute_reply": "2023-07-04T19:56:01.003937Z"
    },
    "papermill": {
     "duration": 0.017165,
     "end_time": "2023-07-04T19:56:01.007580",
     "exception": false,
     "start_time": "2023-07-04T19:56:00.990415",
     "status": "completed"
    },
    "tags": []
   },
   "outputs": [
    {
     "data": {
      "text/plain": [
       "array([[0.91925578]])"
      ]
     },
     "execution_count": 10,
     "metadata": {},
     "output_type": "execute_result"
    }
   ],
   "source": [
    "model.coef_"
   ]
  },
  {
   "cell_type": "code",
   "execution_count": 11,
   "id": "4082b858",
   "metadata": {
    "execution": {
     "iopub.execute_input": "2023-07-04T19:56:01.019513Z",
     "iopub.status.busy": "2023-07-04T19:56:01.019115Z",
     "iopub.status.idle": "2023-07-04T19:56:01.024631Z",
     "shell.execute_reply": "2023-07-04T19:56:01.024003Z"
    },
    "papermill": {
     "duration": 0.013935,
     "end_time": "2023-07-04T19:56:01.026410",
     "exception": false,
     "start_time": "2023-07-04T19:56:01.012475",
     "status": "completed"
    },
    "tags": []
   },
   "outputs": [
    {
     "data": {
      "text/plain": [
       "array([10.69149801])"
      ]
     },
     "execution_count": 11,
     "metadata": {},
     "output_type": "execute_result"
    }
   ],
   "source": [
    "model.intercept_"
   ]
  },
  {
   "cell_type": "code",
   "execution_count": 12,
   "id": "79aa31de",
   "metadata": {
    "execution": {
     "iopub.execute_input": "2023-07-04T19:56:01.037915Z",
     "iopub.status.busy": "2023-07-04T19:56:01.037276Z",
     "iopub.status.idle": "2023-07-04T19:56:01.051585Z",
     "shell.execute_reply": "2023-07-04T19:56:01.049977Z"
    },
    "papermill": {
     "duration": 0.022934,
     "end_time": "2023-07-04T19:56:01.054121",
     "exception": false,
     "start_time": "2023-07-04T19:56:01.031187",
     "status": "completed"
    },
    "tags": []
   },
   "outputs": [
    {
     "data": {
      "text/html": [
       "<div>\n",
       "<style scoped>\n",
       "    .dataframe tbody tr th:only-of-type {\n",
       "        vertical-align: middle;\n",
       "    }\n",
       "\n",
       "    .dataframe tbody tr th {\n",
       "        vertical-align: top;\n",
       "    }\n",
       "\n",
       "    .dataframe thead th {\n",
       "        text-align: right;\n",
       "    }\n",
       "</style>\n",
       "<table border=\"1\" class=\"dataframe\">\n",
       "  <thead>\n",
       "    <tr style=\"text-align: right;\">\n",
       "      <th></th>\n",
       "      <th>actual</th>\n",
       "      <th>prediction</th>\n",
       "    </tr>\n",
       "  </thead>\n",
       "  <tbody>\n",
       "    <tr>\n",
       "      <th>0</th>\n",
       "      <td>13.333333</td>\n",
       "      <td>16.819870</td>\n",
       "    </tr>\n",
       "    <tr>\n",
       "      <th>1</th>\n",
       "      <td>31.111111</td>\n",
       "      <td>34.183590</td>\n",
       "    </tr>\n",
       "    <tr>\n",
       "      <th>2</th>\n",
       "      <td>32.222222</td>\n",
       "      <td>32.651497</td>\n",
       "    </tr>\n",
       "    <tr>\n",
       "      <th>3</th>\n",
       "      <td>32.222222</td>\n",
       "      <td>31.630102</td>\n",
       "    </tr>\n",
       "    <tr>\n",
       "      <th>4</th>\n",
       "      <td>33.333333</td>\n",
       "      <td>29.076614</td>\n",
       "    </tr>\n",
       "    <tr>\n",
       "      <th>...</th>\n",
       "      <td>...</td>\n",
       "      <td>...</td>\n",
       "    </tr>\n",
       "    <tr>\n",
       "      <th>23803</th>\n",
       "      <td>30.555556</td>\n",
       "      <td>27.544521</td>\n",
       "    </tr>\n",
       "    <tr>\n",
       "      <th>23804</th>\n",
       "      <td>8.333333</td>\n",
       "      <td>10.180800</td>\n",
       "    </tr>\n",
       "    <tr>\n",
       "      <th>23805</th>\n",
       "      <td>24.444444</td>\n",
       "      <td>28.055218</td>\n",
       "    </tr>\n",
       "    <tr>\n",
       "      <th>23806</th>\n",
       "      <td>30.000000</td>\n",
       "      <td>30.098009</td>\n",
       "    </tr>\n",
       "    <tr>\n",
       "      <th>23807</th>\n",
       "      <td>25.555556</td>\n",
       "      <td>22.948242</td>\n",
       "    </tr>\n",
       "  </tbody>\n",
       "</table>\n",
       "<p>23808 rows × 2 columns</p>\n",
       "</div>"
      ],
      "text/plain": [
       "          actual  prediction\n",
       "0      13.333333   16.819870\n",
       "1      31.111111   34.183590\n",
       "2      32.222222   32.651497\n",
       "3      32.222222   31.630102\n",
       "4      33.333333   29.076614\n",
       "...          ...         ...\n",
       "23803  30.555556   27.544521\n",
       "23804   8.333333   10.180800\n",
       "23805  24.444444   28.055218\n",
       "23806  30.000000   30.098009\n",
       "23807  25.555556   22.948242\n",
       "\n",
       "[23808 rows x 2 columns]"
      ]
     },
     "execution_count": 12,
     "metadata": {},
     "output_type": "execute_result"
    }
   ],
   "source": [
    "df2=pd.DataFrame({'actual':y_test.flatten(),'prediction':y_predict.flatten()})\n",
    "df2"
   ]
  },
  {
   "cell_type": "code",
   "execution_count": 13,
   "id": "c9883d46",
   "metadata": {
    "execution": {
     "iopub.execute_input": "2023-07-04T19:56:01.065932Z",
     "iopub.status.busy": "2023-07-04T19:56:01.065493Z",
     "iopub.status.idle": "2023-07-04T19:56:01.568913Z",
     "shell.execute_reply": "2023-07-04T19:56:01.568120Z"
    },
    "papermill": {
     "duration": 0.511821,
     "end_time": "2023-07-04T19:56:01.571025",
     "exception": false,
     "start_time": "2023-07-04T19:56:01.059204",
     "status": "completed"
    },
    "tags": []
   },
   "outputs": [
    {
     "data": {
      "text/plain": [
       "[<matplotlib.lines.Line2D at 0x22986e9b490>]"
      ]
     },
     "execution_count": 13,
     "metadata": {},
     "output_type": "execute_result"
    },
    {
     "data": {
      "image/png": "[encoded data removed]",
      "text/plain": [
       "<Figure size 640x480 with 1 Axes>"
      ]
     },
     "metadata": {},
     "output_type": "display_data"
    }
   ],
   "source": [
    "plt.scatter(x_train,y_train)\n",
    "plt.plot(x_train,model.predict(x_train),color='red')"
   ]
  },
  {
   "cell_type": "code",
   "execution_count": 14,
   "id": "4f4e8181",
   "metadata": {
    "execution": {
     "iopub.execute_input": "2023-07-04T19:56:01.584857Z",
     "iopub.status.busy": "2023-07-04T19:56:01.583986Z",
     "iopub.status.idle": "2023-07-04T19:56:02.499784Z",
     "shell.execute_reply": "2023-07-04T19:56:02.497997Z"
    },
    "papermill": {
     "duration": 0.925698,
     "end_time": "2023-07-04T19:56:02.502786",
     "exception": false,
     "start_time": "2023-07-04T19:56:01.577088",
     "status": "completed"
    },
    "tags": []
   },
   "outputs": [
    {
     "data": {
      "text/plain": [
       "<Axes: >"
      ]
     },
     "execution_count": 14,
     "metadata": {},
     "output_type": "execute_result"
    },
    {
     "data": {
      "image/png": "[encoded data removed]",
      "text/plain": [
       "<Figure size 2000x1000 with 1 Axes>"
      ]
     },
     "metadata": {},
     "output_type": "display_data"
    }
   ],
   "source": [
    "df2.head(50).plot(kind='bar',figsize=(20,10))"
   ]
  }
 ],
 "metadata": {
  "kernelspec": {
   "display_name": "Python 3 (ipykernel)",
   "language": "python",
   "name": "python3"
  },
  "language_info": {
   "codemirror_mode": {
    "name": "ipython",
    "version": 3
   },
   "file_extension": ".py",
   "mimetype": "text/x-python",
   "name": "python",
   "nbconvert_exporter": "python",
   "pygments_lexer": "ipython3",
   "version": "3.11.5"
  },
  "papermill": {
   "default_parameters": {},
   "duration": 18.167218,
   "end_time": "2023-07-04T19:56:03.444392",
   "environment_variables": {},
   "exception": null,
   "input_path": "__notebook__.ipynb",
   "output_path": "__notebook__.ipynb",
   "parameters": {},
   "start_time": "2023-07-04T19:55:45.277174",
   "version": "2.4.0"
  }
 },
 "nbformat": 4,
 "nbformat_minor": 5
}
